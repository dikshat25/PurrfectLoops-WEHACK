{
 "cells": [
  {
   "cell_type": "code",
   "execution_count": 64,
   "metadata": {},
   "outputs": [
    {
     "name": "stdout",
     "output_type": "stream",
     "text": [
      "   Unnamed: 0                    Job Salary Job Experience Required  \\\n",
      "0           0   Not Disclosed by Recruiter               5 - 10 yrs   \n",
      "1           1   Not Disclosed by Recruiter                2 - 5 yrs   \n",
      "2           2   Not Disclosed by Recruiter                0 - 1 yrs   \n",
      "3           3       2,00,000 - 4,00,000 PA.               0 - 5 yrs   \n",
      "4           4   Not Disclosed by Recruiter                2 - 5 yrs   \n",
      "\n",
      "                                          Key Skills  \\\n",
      "0                      Media Planning| Digital Media   \n",
      "1   pre sales| closing| software knowledge| clien...   \n",
      "2   Computer science| Fabrication| Quality check|...   \n",
      "3                                  Technical Support   \n",
      "4   manual testing| test engineering| test cases|...   \n",
      "\n",
      "                                Role Category  \\\n",
      "0                                 Advertising   \n",
      "1                                Retail Sales   \n",
      "2                                         R&D   \n",
      "3  Admin/Maintenance/Security/Datawarehousing   \n",
      "4                        Programming & Design   \n",
      "\n",
      "                                     Functional Area  \\\n",
      "0  Marketing , Advertising , MR , PR , Media Plan...   \n",
      "1              Sales , Retail , Business Development   \n",
      "2                           Engineering Design , R&D   \n",
      "3  IT Software - Application Programming , Mainte...   \n",
      "4                         IT Software - QA & Testing   \n",
      "\n",
      "                                Industry                         Job Title  \n",
      "0  Advertising, PR, MR, Event Management  Media Planning Executive/Manager  \n",
      "1         IT-Software, Software Services           Sales Executive/Officer  \n",
      "2                  Recruitment, Staffing                     R&D Executive  \n",
      "3         IT-Software, Software Services        Technical Support Engineer  \n",
      "4         IT-Software, Software Services                  Testing Engineer  \n"
     ]
    }
   ],
   "source": [
    "import pandas as pd\n",
    "\n",
    "df = pd.read_csv('jobs.csv')  # Replace with your dataset file path\n",
    "print(df.head())"
   ]
  },
  {
   "cell_type": "code",
   "execution_count": 65,
   "metadata": {},
   "outputs": [
    {
     "data": {
      "text/plain": [
       "(27010, 8)"
      ]
     },
     "execution_count": 65,
     "metadata": {},
     "output_type": "execute_result"
    }
   ],
   "source": [
    "df.shape"
   ]
  },
  {
   "cell_type": "code",
   "execution_count": 66,
   "metadata": {},
   "outputs": [
    {
     "name": "stdout",
     "output_type": "stream",
     "text": [
      "Unnamed: 0                 0\n",
      "Job Salary                 0\n",
      "Job Experience Required    0\n",
      "Key Skills                 0\n",
      "Role Category              0\n",
      "Functional Area            0\n",
      "Industry                   0\n",
      "Job Title                  0\n",
      "dtype: int64\n"
     ]
    }
   ],
   "source": [
    "print(df.isnull().sum())"
   ]
  },
  {
   "cell_type": "code",
   "execution_count": 67,
   "metadata": {},
   "outputs": [
    {
     "data": {
      "text/plain": [
       "(27010, 8)"
      ]
     },
     "execution_count": 67,
     "metadata": {},
     "output_type": "execute_result"
    }
   ],
   "source": [
    "df.shape"
   ]
  },
  {
   "cell_type": "code",
   "execution_count": 68,
   "metadata": {},
   "outputs": [
    {
     "name": "stdout",
     "output_type": "stream",
     "text": [
      "Unnamed: 0                  int64\n",
      "Job Salary                 object\n",
      "Job Experience Required    object\n",
      "Key Skills                 object\n",
      "Role Category              object\n",
      "Functional Area            object\n",
      "Industry                   object\n",
      "Job Title                  object\n",
      "dtype: object\n"
     ]
    }
   ],
   "source": [
    "# Check data types of each column\n",
    "print(df.dtypes)\n"
   ]
  },
  {
   "cell_type": "code",
   "execution_count": 69,
   "metadata": {},
   "outputs": [
    {
     "name": "stderr",
     "output_type": "stream",
     "text": [
      "C:\\Users\\Diksha\\AppData\\Local\\Temp\\ipykernel_21960\\900241207.py:14: FutureWarning: A value is trying to be set on a copy of a DataFrame or Series through chained assignment using an inplace method.\n",
      "The behavior will change in pandas 3.0. This inplace method will never work because the intermediate object on which we are setting values always behaves as a copy.\n",
      "\n",
      "For example, when doing 'df[col].method(value, inplace=True)', try using 'df.method({col: value}, inplace=True)' or df[col] = df[col].method(value) instead, to perform the operation inplace on the original object.\n",
      "\n",
      "\n",
      "  df['Experience (Years)'].fillna(df['Experience (Years)'].median(), inplace=True)\n",
      "C:\\Users\\Diksha\\AppData\\Local\\Temp\\ipykernel_21960\\900241207.py:15: FutureWarning: A value is trying to be set on a copy of a DataFrame or Series through chained assignment using an inplace method.\n",
      "The behavior will change in pandas 3.0. This inplace method will never work because the intermediate object on which we are setting values always behaves as a copy.\n",
      "\n",
      "For example, when doing 'df[col].method(value, inplace=True)', try using 'df.method({col: value}, inplace=True)' or df[col] = df[col].method(value) instead, to perform the operation inplace on the original object.\n",
      "\n",
      "\n",
      "  df['Key Skills'].fillna(\"\", inplace=True)\n"
     ]
    },
    {
     "name": "stdout",
     "output_type": "stream",
     "text": [
      "TF-IDF Matrix Shape: (27010, 6372)\n"
     ]
    }
   ],
   "source": [
    "import numpy as np\n",
    "from sklearn.feature_extraction.text import TfidfVectorizer\n",
    "\n",
    "# Convert Experience to Numeric (average of the range)\n",
    "def extract_experience(exp):\n",
    "    if isinstance(exp, str) and '-' in exp:\n",
    "        years = exp.split('-')\n",
    "        return (int(years[0].strip()) + int(years[1].split()[0].strip())) / 2\n",
    "    return np.nan\n",
    "\n",
    "df['Experience (Years)'] = df['Job Experience Required'].apply(extract_experience)\n",
    "\n",
    "# Fill missing values\n",
    "df['Experience (Years)'].fillna(df['Experience (Years)'].median(), inplace=True)\n",
    "df['Key Skills'].fillna(\"\", inplace=True)\n",
    "\n",
    "# Convert Key Skills into TF-IDF Vectors\n",
    "vectorizer = TfidfVectorizer(stop_words='english')\n",
    "skills_matrix = vectorizer.fit_transform(df['Key Skills'])\n",
    "\n",
    "print(\"TF-IDF Matrix Shape:\", skills_matrix.shape)\n"
   ]
  },
  {
   "cell_type": "code",
   "execution_count": 70,
   "metadata": {},
   "outputs": [
    {
     "name": "stdout",
     "output_type": "stream",
     "text": [
      "Final Feature Matrix Shape: (27010, 6373)\n"
     ]
    }
   ],
   "source": [
    "from scipy.sparse import hstack\n",
    "from sklearn.preprocessing import StandardScaler\n",
    "\n",
    "# Scale experience and reshape it\n",
    "scaler = StandardScaler()\n",
    "experience_scaled = scaler.fit_transform(df[['Experience (Years)']])\n",
    "\n",
    "# Combine skills and experience into a single feature matrix\n",
    "job_features = hstack((skills_matrix, experience_scaled)).tocsr()\n",
    "\n",
    "print(\"Final Feature Matrix Shape:\", job_features.shape)\n"
   ]
  },
  {
   "cell_type": "code",
   "execution_count": 71,
   "metadata": {},
   "outputs": [
    {
     "name": "stdout",
     "output_type": "stream",
     "text": [
      "KNN Model Trained!\n"
     ]
    }
   ],
   "source": [
    "from sklearn.neighbors import NearestNeighbors\n",
    "\n",
    "# Train KNN model\n",
    "knn_model = NearestNeighbors(n_neighbors=5, metric='cosine')\n",
    "knn_model.fit(job_features)\n",
    "\n",
    "print(\"KNN Model Trained!\")\n"
   ]
  },
  {
   "cell_type": "code",
   "execution_count": 72,
   "metadata": {},
   "outputs": [
    {
     "data": {
      "text/html": [
       "<div>\n",
       "<style scoped>\n",
       "    .dataframe tbody tr th:only-of-type {\n",
       "        vertical-align: middle;\n",
       "    }\n",
       "\n",
       "    .dataframe tbody tr th {\n",
       "        vertical-align: top;\n",
       "    }\n",
       "\n",
       "    .dataframe thead th {\n",
       "        text-align: right;\n",
       "    }\n",
       "</style>\n",
       "<table border=\"1\" class=\"dataframe\">\n",
       "  <thead>\n",
       "    <tr style=\"text-align: right;\">\n",
       "      <th></th>\n",
       "      <th>Job Title</th>\n",
       "      <th>Key Skills</th>\n",
       "      <th>Experience (Years)</th>\n",
       "    </tr>\n",
       "  </thead>\n",
       "  <tbody>\n",
       "    <tr>\n",
       "      <th>14585</th>\n",
       "      <td>Associate/Senior Associate -(Technical)</td>\n",
       "      <td>Technical Support</td>\n",
       "      <td>2.5</td>\n",
       "    </tr>\n",
       "    <tr>\n",
       "      <th>2974</th>\n",
       "      <td>Technical Support Engineer</td>\n",
       "      <td>Technical Support</td>\n",
       "      <td>2.5</td>\n",
       "    </tr>\n",
       "    <tr>\n",
       "      <th>15254</th>\n",
       "      <td>Technical Support Engineer</td>\n",
       "      <td>technical support representative| technical s...</td>\n",
       "      <td>2.0</td>\n",
       "    </tr>\n",
       "    <tr>\n",
       "      <th>20174</th>\n",
       "      <td>Post Sales Consultant</td>\n",
       "      <td>Technical Support</td>\n",
       "      <td>4.0</td>\n",
       "    </tr>\n",
       "    <tr>\n",
       "      <th>16670</th>\n",
       "      <td>Associate/Senior Associate -(Technical)</td>\n",
       "      <td>technical support| technical support voice</td>\n",
       "      <td>3.0</td>\n",
       "    </tr>\n",
       "  </tbody>\n",
       "</table>\n",
       "</div>"
      ],
      "text/plain": [
       "                                     Job Title  \\\n",
       "14585  Associate/Senior Associate -(Technical)   \n",
       "2974                Technical Support Engineer   \n",
       "15254               Technical Support Engineer   \n",
       "20174                    Post Sales Consultant   \n",
       "16670  Associate/Senior Associate -(Technical)   \n",
       "\n",
       "                                              Key Skills  Experience (Years)  \n",
       "14585                                  Technical Support                 2.5  \n",
       "2974                                   Technical Support                 2.5  \n",
       "15254   technical support representative| technical s...                 2.0  \n",
       "20174                                  Technical Support                 4.0  \n",
       "16670         technical support| technical support voice                 3.0  "
      ]
     },
     "execution_count": 72,
     "metadata": {},
     "output_type": "execute_result"
    }
   ],
   "source": [
    "def recommend_jobs(job_title, top_n=5):\n",
    "    if job_title not in df['Job Title'].values:\n",
    "        return \"Job not found in dataset\"\n",
    "\n",
    "    # Find job index\n",
    "    job_idx = df[df['Job Title'] == job_title].index[0]\n",
    "\n",
    "    # Find K nearest jobs\n",
    "    distances, indices = knn_model.kneighbors(job_features[job_idx], n_neighbors=top_n+1)\n",
    "\n",
    "    # Get recommended jobs\n",
    "    recommended_jobs = df.iloc[indices[0][1:]][['Job Title', 'Key Skills', 'Experience (Years)']]\n",
    "    \n",
    "    return recommended_jobs\n",
    "\n",
    "# Example Usage\n",
    "recommend_jobs(\"Technical Support Engineer\")\n"
   ]
  },
  {
   "cell_type": "code",
   "execution_count": 77,
   "metadata": {},
   "outputs": [
    {
     "name": "stderr",
     "output_type": "stream",
     "text": [
      "c:\\Users\\Diksha\\AppData\\Local\\Programs\\Python\\Python312\\Lib\\site-packages\\sklearn\\base.py:493: UserWarning: X does not have valid feature names, but StandardScaler was fitted with feature names\n",
      "  warnings.warn(\n"
     ]
    },
    {
     "data": {
      "text/html": [
       "<div>\n",
       "<style scoped>\n",
       "    .dataframe tbody tr th:only-of-type {\n",
       "        vertical-align: middle;\n",
       "    }\n",
       "\n",
       "    .dataframe tbody tr th {\n",
       "        vertical-align: top;\n",
       "    }\n",
       "\n",
       "    .dataframe thead th {\n",
       "        text-align: right;\n",
       "    }\n",
       "</style>\n",
       "<table border=\"1\" class=\"dataframe\">\n",
       "  <thead>\n",
       "    <tr style=\"text-align: right;\">\n",
       "      <th></th>\n",
       "      <th>Job Title</th>\n",
       "      <th>Key Skills</th>\n",
       "      <th>Experience (Years)</th>\n",
       "    </tr>\n",
       "  </thead>\n",
       "  <tbody>\n",
       "    <tr>\n",
       "      <th>3284</th>\n",
       "      <td>Software Developer</td>\n",
       "      <td>python| c++</td>\n",
       "      <td>5.5</td>\n",
       "    </tr>\n",
       "    <tr>\n",
       "      <th>1699</th>\n",
       "      <td>Software Developer</td>\n",
       "      <td>c++|python</td>\n",
       "      <td>5.5</td>\n",
       "    </tr>\n",
       "    <tr>\n",
       "      <th>5622</th>\n",
       "      <td>Software Developer</td>\n",
       "      <td>Python</td>\n",
       "      <td>3.5</td>\n",
       "    </tr>\n",
       "    <tr>\n",
       "      <th>13298</th>\n",
       "      <td>Software Developer</td>\n",
       "      <td>Python| Python Developer</td>\n",
       "      <td>5.0</td>\n",
       "    </tr>\n",
       "    <tr>\n",
       "      <th>14422</th>\n",
       "      <td>Software Developer</td>\n",
       "      <td>python</td>\n",
       "      <td>7.5</td>\n",
       "    </tr>\n",
       "  </tbody>\n",
       "</table>\n",
       "</div>"
      ],
      "text/plain": [
       "                Job Title                 Key Skills  Experience (Years)\n",
       "3284   Software Developer                python| c++                 5.5\n",
       "1699   Software Developer                 c++|python                 5.5\n",
       "5622   Software Developer                     Python                 3.5\n",
       "13298  Software Developer   Python| Python Developer                 5.0\n",
       "14422  Software Developer                     python                 7.5"
      ]
     },
     "execution_count": 77,
     "metadata": {},
     "output_type": "execute_result"
    }
   ],
   "source": [
    "def recommend_jobs_by_skills(user_skills, experience, top_n=5):\n",
    "    user_skills_vector = vectorizer.transform([user_skills])\n",
    "    user_experience_scaled = scaler.transform([[experience]])\n",
    "\n",
    "    # Combine user input into feature matrix\n",
    "    user_features = hstack((user_skills_vector, user_experience_scaled))\n",
    "\n",
    "    # Find K nearest jobs\n",
    "    distances, indices = knn_model.kneighbors(user_features, n_neighbors=top_n)\n",
    "\n",
    "    # Get recommended jobs\n",
    "    recommended_jobs = df.iloc[indices[0]][['Job Title', 'Key Skills', 'Experience (Years)']]\n",
    "    \n",
    "    return recommended_jobs\n",
    "\n",
    "# Example Usage\n",
    "recommend_jobs_by_skills(\"Python\", 5)\n"
   ]
  },
  {
   "cell_type": "code",
   "execution_count": 74,
   "metadata": {},
   "outputs": [
    {
     "name": "stdout",
     "output_type": "stream",
     "text": [
      "Precision: 0.1260, Recall: 0.6300\n"
     ]
    }
   ],
   "source": [
    "def evaluate_knn_recommendations(n_samples=100, k=5):\n",
    "    import numpy as np\n",
    "\n",
    "    relevant_jobs = 0\n",
    "    total_jobs = 0\n",
    "\n",
    "    sample_indices = np.random.choice(df.index, n_samples, replace=False)\n",
    "\n",
    "    for idx in sample_indices:\n",
    "        job_title = df.iloc[idx]['Job Title']\n",
    "        recommendations = recommend_jobs(job_title, k)\n",
    "\n",
    "        if job_title in recommendations['Job Title'].values:\n",
    "            relevant_jobs += 1\n",
    "        total_jobs += 1\n",
    "\n",
    "    precision = relevant_jobs / (total_jobs * k)\n",
    "    recall = relevant_jobs / total_jobs\n",
    "\n",
    "    return precision, recall\n",
    "\n",
    "# Run evaluation\n",
    "precision, recall = evaluate_knn_recommendations()\n",
    "print(f\"Precision: {precision:.4f}, Recall: {recall:.4f}\")\n"
   ]
  },
  {
   "cell_type": "code",
   "execution_count": null,
   "metadata": {},
   "outputs": [],
   "source": []
  }
 ],
 "metadata": {
  "kernelspec": {
   "display_name": "Python 3",
   "language": "python",
   "name": "python3"
  },
  "language_info": {
   "codemirror_mode": {
    "name": "ipython",
    "version": 3
   },
   "file_extension": ".py",
   "mimetype": "text/x-python",
   "name": "python",
   "nbconvert_exporter": "python",
   "pygments_lexer": "ipython3",
   "version": "3.12.3"
  }
 },
 "nbformat": 4,
 "nbformat_minor": 2
}
